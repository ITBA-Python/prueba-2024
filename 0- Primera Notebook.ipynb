{
 "cells": [
  {
   "cell_type": "code",
   "execution_count": 1,
   "id": "3a0514e3-e030-402d-84cd-8bdd696fc82b",
   "metadata": {},
   "outputs": [
    {
     "name": "stdout",
     "output_type": "stream",
     "text": [
      "Esta es la primera notebook del curso\n"
     ]
    }
   ],
   "source": [
    "print(\"Esta es la primera notebook del curso\")"
   ]
  },
  {
   "cell_type": "code",
   "execution_count": 2,
   "id": "3b4713e4-612d-4efb-9efc-5dc74dccd352",
   "metadata": {},
   "outputs": [],
   "source": [
    "a = 5\n",
    "b = 3"
   ]
  },
  {
   "cell_type": "code",
   "execution_count": 3,
   "id": "5d523af1-f5da-4e7a-99a8-33009bf13fdf",
   "metadata": {},
   "outputs": [
    {
     "name": "stdout",
     "output_type": "stream",
     "text": [
      "8\n"
     ]
    }
   ],
   "source": [
    "print(a+b)"
   ]
  },
  {
   "cell_type": "markdown",
   "id": "c5d62088-7b77-4563-b20e-e16f2cb935af",
   "metadata": {},
   "source": [
    "# Esto es un título\n",
    "## Esto es título 2\n",
    "### Es título 3\n",
    "\n",
    "- 1\n",
    "- 2\n",
    "- 3\n",
    "- 4\n",
    "\n",
    "Y una tabla:\n",
    "\n",
    "First Header | Second Header\n",
    "------------ | -------------\n",
    "Content cell 1 | Content cell 2\n",
    "Content column 1 | Content column 2"
   ]
  },
  {
   "cell_type": "code",
   "execution_count": null,
   "id": "e0820cd5-c33f-4c16-918f-15b9ab14255d",
   "metadata": {},
   "outputs": [],
   "source": []
  },
  {
   "cell_type": "code",
   "execution_count": null,
   "id": "74998023-c8bc-4601-b6ef-cc03fe9fb213",
   "metadata": {},
   "outputs": [],
   "source": []
  }
 ],
 "metadata": {
  "kernelspec": {
   "display_name": "Python 3 (ipykernel)",
   "language": "python",
   "name": "python3"
  },
  "language_info": {
   "codemirror_mode": {
    "name": "ipython",
    "version": 3
   },
   "file_extension": ".py",
   "mimetype": "text/x-python",
   "name": "python",
   "nbconvert_exporter": "python",
   "pygments_lexer": "ipython3",
   "version": "3.10.13"
  }
 },
 "nbformat": 4,
 "nbformat_minor": 5
}
